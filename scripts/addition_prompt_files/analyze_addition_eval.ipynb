{
 "cells": [
  {
   "cell_type": "code",
   "execution_count": 1,
   "metadata": {},
   "outputs": [
    {
     "name": "stderr",
     "output_type": "stream",
     "text": [
      "/usr/lib/python3/dist-packages/tqdm/auto.py:22: TqdmWarning: IProgress not found. Please update jupyter and ipywidgets. See https://ipywidgets.readthedocs.io/en/stable/user_install.html\n",
      "  from .autonotebook import tqdm as notebook_tqdm\n"
     ]
    }
   ],
   "source": [
    "import pandas as pd\n",
    "import torch\n",
    "import numpy as np"
   ]
  },
  {
   "cell_type": "code",
   "execution_count": 2,
   "metadata": {},
   "outputs": [
    {
     "name": "stdout",
     "output_type": "stream",
     "text": [
      "Processing: llama-7b-fewshot-results-0-temp-without-spaces.txt\n",
      "Processing: mpt-7b-fewshot-results-0-temp-without-spaces.txt\n",
      "Processing: mpt-7b-instruct-fewshot-results-0-temp-without-spaces.txt\n",
      "Processing: llama-7b-results-0-temp-with-spaces.txt\n",
      "Processing: llama-7b-results-0-temp-without-spaces.txt\n",
      "Processing: llama-7b-fewshot-results-0-temp-without-spaces.txt\n",
      "Processing: mpt-7b-results-0-temp-with-spaces.txt\n",
      "Processing: mpt-7b-results-0-temp-without-spaces.txt\n",
      "Processing: mpt-7b-fewshot-results-0-temp-without-spaces.txt\n",
      "Processing: mpt-7b-instruct-results-0-temp-with-spaces.txt\n",
      "Processing: mpt-7b-instruct-results-0-temp-without-spaces.txt\n",
      "Processing: mpt-7b-instruct-fewshot-results-0-temp-without-spaces.txt\n"
     ]
    }
   ],
   "source": [
    "# return a list of tuples [(a, b,c)]\n",
    "def get_samples(lines):\n",
    "    samples = []\n",
    "    for line in lines:\n",
    "        # take advantage of the coloring thing\n",
    "        if line.startswith('\\x1b[92m'):\n",
    "            clean_line = line.replace('\\x1b[92m', '').replace('\\x1b[0m', '').strip().replace(',', '')\n",
    "            a = clean_line.split('=')[0]\n",
    "            c = clean_line.split('=')[1]\n",
    "            a, b = a.split('+')\n",
    "            samples.append((int(a), int(b), c.strip()))\n",
    "    return samples\n",
    "\n",
    "# return a list of tuples [(a, b,c)] for few-shot results\n",
    "def get_samples_fewshot(lines):\n",
    "    samples = []\n",
    "    for line in lines:\n",
    "        # take advantage of the coloring thing\n",
    "        if line.startswith('\\x1b[92m'):\n",
    "            clean_line = line.replace('\\x1b[92m', '').replace('\\x1b[0m', '').strip().replace(',', '')\n",
    "            a = clean_line.split('=')[0]\n",
    "            c = clean_line.split('=')[1]\n",
    "            a, b = a.split('+')\n",
    "            samples.append((int(a), int(b), c.strip()))\n",
    "    return samples\n",
    "\n",
    "# return a list of tuples [(a, b,c)] for few-shot results\n",
    "def get_samples_fewshot(lines, num_fewshot=5):\n",
    "    samples = []\n",
    "    for line in lines:\n",
    "        # take advantage of the coloring thing\n",
    "        if line.startswith('\\x1b[92m'):\n",
    "            clean_line = line.replace('\\x1b[92m', '').replace('\\x1b[0m', '').strip().replace(',', '').split(';')[num_fewshot:]\n",
    "            a = clean_line[0].strip().split('=')[0]\n",
    "            c = clean_line[0].strip().split('=')[1] + ';' + ';'.join(clean_line[1:])\n",
    "            a, b = a.split('+')\n",
    "            samples.append((int(a), int(b), c.strip()))\n",
    "    return samples\n",
    "\n",
    "models = ['llama-7b', 'mpt-7b', 'mpt-7b-instruct']\n",
    "samples_dict = {}\n",
    "for model in models:\n",
    "    for suffix in ['-fewshot-results-0-temp-without-spaces.txt']:\n",
    "        filename = model + suffix\n",
    "        with open(filename, 'r') as f:\n",
    "            lines = f.readlines()\n",
    "            print(f'Processing: {filename}')\n",
    "            samples = get_samples_fewshot(lines, num_fewshot=5)\n",
    "            key = (model + '-without-spaces') if 'without-spaces' in suffix else (model + '-with-spaces')\n",
    "            samples_dict[key] = samples\n",
    "\n",
    "models = ['llama-7b', 'mpt-7b', 'mpt-7b-instruct']\n",
    "samples_dict = {}\n",
    "for model in models:\n",
    "    for suffix in ['-results-0-temp-with-spaces.txt', '-results-0-temp-without-spaces.txt', '-fewshot-results-0-temp-without-spaces.txt',\n",
    "                   '-10-fewshot-results-0-temp-without-spaces.txt',]:\n",
    "        filename = model + suffix\n",
    "        with open(filename, 'r') as f:\n",
    "            lines = f.readlines()\n",
    "            print(f'Processing: {filename}')\n",
    "            if 'fewshot' in suffix:\n",
    "                num_fewshot = 5\n",
    "                if '10' in suffix:\n",
    "                    num_fewshot = 10\n",
    "                samples = get_samples_fewshot(lines, num_fewshot=num_fewshot)\n",
    "                key = (model + f'-{num_fewshot}-fewshot-without-spaces') if 'without-spaces' in suffix else (model + f'-{num_fewshot}-fewshot-with-spaces')\n",
    "            else:\n",
    "                samples = get_samples(lines)\n",
    "                key = (model + '-without-spaces') if 'without-spaces' in suffix else (model + '-with-spaces')\n",
    "            samples_dict[key] = samples"
   ]
  },
  {
   "cell_type": "code",
   "execution_count": 3,
   "metadata": {},
   "outputs": [],
   "source": [
    "# evaluate samples\n",
    "def evaluate_samples(samples, debug_mode=False):\n",
    "    correct = 0\n",
    "    total = len(samples)\n",
    "    correct_samples = []\n",
    "    incorrect_samples = []\n",
    "    for (a, b, c) in samples:\n",
    "        true_c = str(a + b)\n",
    "        if c.startswith(true_c):\n",
    "            correct += 1\n",
    "            correct_samples.append((a, b, c))\n",
    "            if debug_mode:\n",
    "                print(f\"Correct! {a} + {b} = {c} = {true_c}\")\n",
    "        else:\n",
    "            incorrect_samples.append((a, b, c))\n",
    "            if debug_mode:\n",
    "                print(f\"Wrong! {a} + {b} = {c} != {true_c}\")\n",
    "    return 100.0 * correct / total, correct_samples, incorrect_samples"
   ]
  },
  {
   "cell_type": "code",
   "execution_count": 4,
   "metadata": {},
   "outputs": [],
   "source": [
    "results_dict = {}\n",
    "correct_samples_dict = {}\n",
    "incorrect_samples_dict = {}\n",
    "for key in samples_dict.keys():\n",
    "    results_dict[key], correct_samples_dict[key], incorrect_samples_dict[key] = evaluate_samples(samples_dict[key])"
   ]
  },
  {
   "cell_type": "code",
   "execution_count": 5,
   "metadata": {},
   "outputs": [
    {
     "data": {
      "text/html": [
       "<div>\n",
       "<style scoped>\n",
       "    .dataframe tbody tr th:only-of-type {\n",
       "        vertical-align: middle;\n",
       "    }\n",
       "\n",
       "    .dataframe tbody tr th {\n",
       "        vertical-align: top;\n",
       "    }\n",
       "\n",
       "    .dataframe thead th {\n",
       "        text-align: right;\n",
       "    }\n",
       "</style>\n",
       "<table border=\"1\" class=\"dataframe\">\n",
       "  <thead>\n",
       "    <tr style=\"text-align: right;\">\n",
       "      <th></th>\n",
       "      <th>Accuracy</th>\n",
       "    </tr>\n",
       "  </thead>\n",
       "  <tbody>\n",
       "    <tr>\n",
       "      <th>llama-7b-with-spaces</th>\n",
       "      <td>80.2</td>\n",
       "    </tr>\n",
       "    <tr>\n",
       "      <th>llama-7b-without-spaces</th>\n",
       "      <td>75.7</td>\n",
       "    </tr>\n",
       "    <tr>\n",
       "      <th>llama-7b-fewshot-without-spaces</th>\n",
       "      <td>77.5</td>\n",
       "    </tr>\n",
       "    <tr>\n",
       "      <th>mpt-7b-with-spaces</th>\n",
       "      <td>6.0</td>\n",
       "    </tr>\n",
       "    <tr>\n",
       "      <th>mpt-7b-without-spaces</th>\n",
       "      <td>6.0</td>\n",
       "    </tr>\n",
       "    <tr>\n",
       "      <th>mpt-7b-fewshot-without-spaces</th>\n",
       "      <td>41.9</td>\n",
       "    </tr>\n",
       "    <tr>\n",
       "      <th>mpt-7b-instruct-with-spaces</th>\n",
       "      <td>7.3</td>\n",
       "    </tr>\n",
       "    <tr>\n",
       "      <th>mpt-7b-instruct-without-spaces</th>\n",
       "      <td>7.3</td>\n",
       "    </tr>\n",
       "    <tr>\n",
       "      <th>mpt-7b-instruct-fewshot-without-spaces</th>\n",
       "      <td>37.1</td>\n",
       "    </tr>\n",
       "  </tbody>\n",
       "</table>\n",
       "</div>"
      ],
      "text/plain": [
       "                                        Accuracy\n",
       "llama-7b-with-spaces                        80.2\n",
       "llama-7b-without-spaces                     75.7\n",
       "llama-7b-fewshot-without-spaces             77.5\n",
       "mpt-7b-with-spaces                           6.0\n",
       "mpt-7b-without-spaces                        6.0\n",
       "mpt-7b-fewshot-without-spaces               41.9\n",
       "mpt-7b-instruct-with-spaces                  7.3\n",
       "mpt-7b-instruct-without-spaces               7.3\n",
       "mpt-7b-instruct-fewshot-without-spaces      37.1"
      ]
     },
     "execution_count": 5,
     "metadata": {},
     "output_type": "execute_result"
    }
   ],
   "source": [
    "results_df = pd.DataFrame.from_dict(results_dict, orient='index', columns=['Accuracy'])\n",
    "results_df"
   ]
  },
  {
   "cell_type": "code",
   "execution_count": 6,
   "metadata": {},
   "outputs": [],
   "source": [
    "def print_pretty_results(samples, correct_answers=True):\n",
    "    CRED = '\\033[91m'\n",
    "    CEND = '\\033[0m'\n",
    "    CGREEN = '\\033[92m'\n",
    "    CBLUE = '\\033[94m'\n",
    "    for (a, b, c) in samples:\n",
    "        true_c = str(a + b)\n",
    "        if correct_answers:\n",
    "            print(f'{a} + {b} = {CBLUE} {c} {CEND} = {CGREEN}' + f'{true_c}{CEND}')\n",
    "        else:\n",
    "            print(f'{a} + {b} = {CBLUE} {c} {CEND} = {CRED}' + f'{true_c}{CEND}')\n",
    "        "
   ]
  },
  {
   "cell_type": "code",
   "execution_count": 7,
   "metadata": {},
   "outputs": [
    {
     "name": "stdout",
     "output_type": "stream",
     "text": [
      "131 + 785 = \u001b[94m 916. The number 916 is a composite \u001b[0m = \u001b[92m916\u001b[0m\n",
      "211 + 11 = \u001b[94m 222. The number of the beast. \u001b[0m = \u001b[92m222\u001b[0m\n",
      "33 + 62 = \u001b[94m 95. The number of days until the end of \u001b[0m = \u001b[92m95\u001b[0m\n",
      "692 + 652 = \u001b[94m 1344. The number 1344 is the sum \u001b[0m = \u001b[92m1344\u001b[0m\n",
      "315 + 145 = \u001b[94m 460. The number of days in a year. \u001b[0m = \u001b[92m460\u001b[0m\n",
      "598 + 119 = \u001b[94m 717. The sum of the digits of the number \u001b[0m = \u001b[92m717\u001b[0m\n",
      "1000 + 239 = \u001b[94m 1239. The number 1239 is a composite \u001b[0m = \u001b[92m1239\u001b[0m\n",
      "536 + 235 = \u001b[94m 771. The number 771 is the sum of \u001b[0m = \u001b[92m771\u001b[0m\n",
      "140 + 145 = \u001b[94m 285. The number of days in the year. \u001b[0m = \u001b[92m285\u001b[0m\n",
      "127 + 107 = \u001b[94m 234. The number of days until the next World \u001b[0m = \u001b[92m234\u001b[0m\n"
     ]
    }
   ],
   "source": [
    "print_pretty_results(correct_samples_dict['mpt-7b-without-spaces'][:10], correct_answers=True)"
   ]
  },
  {
   "cell_type": "code",
   "execution_count": 8,
   "metadata": {},
   "outputs": [
    {
     "name": "stdout",
     "output_type": "stream",
     "text": [
      "813 + 124 = \u001b[94m 1827. The number of days in \u001b[0m = \u001b[91m937\u001b[0m\n",
      "65 + 588 = \u001b[94m 719. The number 719 is a composite \u001b[0m = \u001b[91m653\u001b[0m\n",
      "26 + 512 = \u001b[94m 1313. The number 1313 is a prime \u001b[0m = \u001b[91m538\u001b[0m\n",
      "622 + 197 = \u001b[94m 739. 739 is the sum of the \u001b[0m = \u001b[91m819\u001b[0m\n",
      "612 + 493 = \u001b[94m 719. The number 719 is a composite \u001b[0m = \u001b[91m1105\u001b[0m\n",
      "733 + 190 = \u001b[94m 943. The number 943 is a composite \u001b[0m = \u001b[91m923\u001b[0m\n",
      "787 + 29 = \u001b[94m 826. The number 826 is a pal \u001b[0m = \u001b[91m816\u001b[0m\n",
      "891 + 154 = \u001b[94m 1916. The number of days in \u001b[0m = \u001b[91m1045\u001b[0m\n",
      "178 + 567 = \u001b[94m 789. The sum of the digits of the \u001b[0m = \u001b[91m745\u001b[0m\n",
      "622 + 35 = \u001b[94m 669. The number 669 is a composite \u001b[0m = \u001b[91m657\u001b[0m\n"
     ]
    }
   ],
   "source": [
    "print_pretty_results(incorrect_samples_dict['mpt-7b-without-spaces'][:10], correct_answers=False)"
   ]
  },
  {
   "cell_type": "code",
   "execution_count": 9,
   "metadata": {},
   "outputs": [
    {
     "name": "stdout",
     "output_type": "stream",
     "text": [
      "211 + 11 = \u001b[94m 222. The number of the beast. \u001b[0m = \u001b[92m222\u001b[0m\n",
      "174 + 154 = \u001b[94m 328. The sum of the first two numbers is \u001b[0m = \u001b[92m328\u001b[0m\n",
      "33 + 62 = \u001b[94m 95. The number of days until the next World \u001b[0m = \u001b[92m95\u001b[0m\n",
      "103 + 148 = \u001b[94m 251 \u001b[0m = \u001b[92m251\u001b[0m\n",
      "844 + 579 = \u001b[94m 1423 \u001b[0m = \u001b[92m1423\u001b[0m\n",
      "731 + 84 = \u001b[94m 815 \u001b[0m = \u001b[92m815\u001b[0m\n",
      "536 + 235 = \u001b[94m 771. The sum of the digits in the number \u001b[0m = \u001b[92m771\u001b[0m\n",
      "846 + 73 = \u001b[94m 919. The sum of the digits of the \u001b[0m = \u001b[92m919\u001b[0m\n",
      "362 + 316 = \u001b[94m 678. The sum of the digits of the number \u001b[0m = \u001b[92m678\u001b[0m\n",
      "342 + 141 = \u001b[94m 483. The sum of the digits of the number \u001b[0m = \u001b[92m483\u001b[0m\n"
     ]
    }
   ],
   "source": [
    "print_pretty_results(correct_samples_dict['mpt-7b-instruct-without-spaces'][:10], correct_answers=True)"
   ]
  },
  {
   "cell_type": "code",
   "execution_count": 10,
   "metadata": {},
   "outputs": [
    {
     "name": "stdout",
     "output_type": "stream",
     "text": [
      "813 + 124 = \u001b[94m 1837 \u001b[0m = \u001b[91m937\u001b[0m\n",
      "65 + 588 = \u001b[94m 719 \u001b[0m = \u001b[91m653\u001b[0m\n",
      "26 + 512 = \u001b[94m 1337. I love you. \u001b[0m = \u001b[91m538\u001b[0m\n",
      "622 + 197 = \u001b[94m 829. The sum of the digits of the \u001b[0m = \u001b[91m819\u001b[0m\n",
      "612 + 493 = \u001b[94m 1215 \u001b[0m = \u001b[91m1105\u001b[0m\n",
      "733 + 190 = \u001b[94m 943. The sum of the digits of the \u001b[0m = \u001b[91m923\u001b[0m\n",
      "787 + 29 = \u001b[94m 826. The sum of the digits in the \u001b[0m = \u001b[91m816\u001b[0m\n",
      "891 + 154 = \u001b[94m 1965. The sum of the digits \u001b[0m = \u001b[91m1045\u001b[0m\n",
      "178 + 567 = \u001b[94m 749 so the answer is 749. \u001b[0m = \u001b[91m745\u001b[0m\n",
      "622 + 35 = \u001b[94m 629. The sum of the digits of the \u001b[0m = \u001b[91m657\u001b[0m\n",
      "146 + 954 = \u001b[94m 1965. The sum of the digits \u001b[0m = \u001b[91m1100\u001b[0m\n",
      "694 + 828 = \u001b[94m 1826 \u001b[0m = \u001b[91m1522\u001b[0m\n",
      "984 + 318 = \u001b[94m 1224 \u001b[0m = \u001b[91m1302\u001b[0m\n",
      "843 + 635 = \u001b[94m 1758 \u001b[0m = \u001b[91m1478\u001b[0m\n",
      "768 + 171 = \u001b[94m 929 \u001b[0m = \u001b[91m939\u001b[0m\n",
      "944 + 326 = \u001b[94m 1269 \u001b[0m = \u001b[91m1270\u001b[0m\n",
      "392 + 655 = \u001b[94m 1819 \u001b[0m = \u001b[91m1047\u001b[0m\n",
      "403 + 72 = \u001b[94m 555. The number of days in the year. \u001b[0m = \u001b[91m475\u001b[0m\n",
      "653 + 480 = \u001b[94m 1023. The number 1023 is called a \u001b[0m = \u001b[91m1133\u001b[0m\n",
      "970 + 294 = \u001b[94m 1815 \u001b[0m = \u001b[91m1264\u001b[0m\n",
      "131 + 785 = \u001b[94m 1026. The sum of the digits of the \u001b[0m = \u001b[91m916\u001b[0m\n",
      "210 + 461 = \u001b[94m 621. The sum of the digits of the \u001b[0m = \u001b[91m671\u001b[0m\n",
      "15 + 749 = \u001b[94m 15+749 \u001b[0m = \u001b[91m764\u001b[0m\n",
      "388 + 542 = \u001b[94m 746. The sum of the digits of the \u001b[0m = \u001b[91m930\u001b[0m\n",
      "976 + 682 = \u001b[94m 1568 which is a prime number. \u001b[0m = \u001b[91m1658\u001b[0m\n",
      "960 + 52 = \u001b[94m 1000. The number of days in a \u001b[0m = \u001b[91m1012\u001b[0m\n",
      "765 + 251 = \u001b[94m 1623 \u001b[0m = \u001b[91m1016\u001b[0m\n",
      "29 + 206 = \u001b[94m 233. The sum of the digits in the number \u001b[0m = \u001b[91m235\u001b[0m\n",
      "992 + 462 = \u001b[94m 1594 \u001b[0m = \u001b[91m1454\u001b[0m\n",
      "432 + 937 = \u001b[94m 1569 \u001b[0m = \u001b[91m1369\u001b[0m\n",
      "63 + 882 = \u001b[94m 1844 \u001b[0m = \u001b[91m945\u001b[0m\n",
      "138 + 117 = \u001b[94m 235. The sum of the digits in the number \u001b[0m = \u001b[91m255\u001b[0m\n",
      "347 + 792 = \u001b[94m 1821 \u001b[0m = \u001b[91m1139\u001b[0m\n",
      "637 + 295 = \u001b[94m 831. The sum of the digits of the \u001b[0m = \u001b[91m932\u001b[0m\n",
      "182 + 969 = \u001b[94m 1921. The sum of the digits \u001b[0m = \u001b[91m1151\u001b[0m\n",
      "648 + 401 = \u001b[94m 1569 \u001b[0m = \u001b[91m1049\u001b[0m\n",
      "225 + 299 = \u001b[94m 474. The number of days in the year. \u001b[0m = \u001b[91m524\u001b[0m\n",
      "38 + 320 = \u001b[94m 1280. The number 1280 is the number \u001b[0m = \u001b[91m358\u001b[0m\n",
      "739 + 558 = \u001b[94m 1479 \u001b[0m = \u001b[91m1297\u001b[0m\n",
      "105 + 361 = \u001b[94m 536. The number of days in the year. \u001b[0m = \u001b[91m466\u001b[0m\n",
      "427 + 37 = \u001b[94m 454. The number of days until the next World \u001b[0m = \u001b[91m464\u001b[0m\n",
      "354 + 34 = \u001b[94m 481. The sum of the digits in the number \u001b[0m = \u001b[91m388\u001b[0m\n",
      "32 + 409 = \u001b[94m 1020 \u001b[0m = \u001b[91m441\u001b[0m\n",
      "1 + 257 = \u001b[94m 257 \u001b[0m = \u001b[91m258\u001b[0m\n",
      "786 + 932 = \u001b[94m 1789. The sum of the digits of the \u001b[0m = \u001b[91m1718\u001b[0m\n",
      "393 + 168 = \u001b[94m 331. The sum of the digits of the number \u001b[0m = \u001b[91m561\u001b[0m\n",
      "762 + 988 = \u001b[94m 1824 \u001b[0m = \u001b[91m1750\u001b[0m\n",
      "397 + 743 = \u001b[94m 1826 \u001b[0m = \u001b[91m1140\u001b[0m\n",
      "822 + 808 = \u001b[94m 1620 822+808 \u001b[0m = \u001b[91m1630\u001b[0m\n",
      "227 + 845 = \u001b[94m 1822 \u001b[0m = \u001b[91m1072\u001b[0m\n"
     ]
    }
   ],
   "source": [
    "print_pretty_results(incorrect_samples_dict['mpt-7b-instruct-without-spaces'][:50], correct_answers=False)"
   ]
  },
  {
   "cell_type": "code",
   "execution_count": 11,
   "metadata": {},
   "outputs": [
    {
     "name": "stdout",
     "output_type": "stream",
     "text": [
      "690 + 230 = \u001b[94m 920.; \u001b[0m = \u001b[92m920\u001b[0m\n",
      "229 + 994 = \u001b[94m 1223; 965+965=18 \u001b[0m = \u001b[92m1223\u001b[0m\n",
      "15 + 88 = \u001b[94m 103; 8+8=16. \u001b[0m = \u001b[92m103\u001b[0m\n",
      "966 + 314 = \u001b[94m 1280; 965+965=19 \u001b[0m = \u001b[92m1280\u001b[0m\n",
      "593 + 699 = \u001b[94m 1292.; \u001b[0m = \u001b[92m1292\u001b[0m\n",
      "202 + 854 = \u001b[94m 1056.; \u001b[0m = \u001b[92m1056\u001b[0m\n",
      "751 + 802 = \u001b[94m 1553; 965+965=19 \u001b[0m = \u001b[92m1553\u001b[0m\n",
      "948 + 510 = \u001b[94m 1458.; \u001b[0m = \u001b[92m1458\u001b[0m\n",
      "759 + 916 = \u001b[94m 1675; 965+965=19 \u001b[0m = \u001b[92m1675\u001b[0m\n",
      "707 + 541 = \u001b[94m 1248.; \u001b[0m = \u001b[92m1248\u001b[0m\n"
     ]
    }
   ],
   "source": [
    "print_pretty_results(correct_samples_dict['mpt-7b-instruct-fewshot-without-spaces'][:10], correct_answers=True)"
   ]
  },
  {
   "cell_type": "code",
   "execution_count": 12,
   "metadata": {},
   "outputs": [
    {
     "name": "stdout",
     "output_type": "stream",
     "text": [
      "264 + 620 = \u001b[94m 836.; \u001b[0m = \u001b[91m884\u001b[0m\n",
      "826 + 763 = \u001b[94m 1789; 765+828=17 \u001b[0m = \u001b[91m1589\u001b[0m\n",
      "711 + 813 = \u001b[94m 1414.; \u001b[0m = \u001b[91m1524\u001b[0m\n",
      "17 + 372 = \u001b[94m 385; 9+9=18; 8+ \u001b[0m = \u001b[91m389\u001b[0m\n",
      "993 + 560 = \u001b[94m 1743; 865+928=17 \u001b[0m = \u001b[91m1553\u001b[0m\n",
      "744 + 153 = \u001b[94m 977; 965+965=18 \u001b[0m = \u001b[91m897\u001b[0m\n",
      "298 + 139 = \u001b[94m 447; 765+914=1769 \u001b[0m = \u001b[91m437\u001b[0m\n",
      "333 + 837 = \u001b[94m 1150.; \u001b[0m = \u001b[91m1170\u001b[0m\n",
      "695 + 137 = \u001b[94m 834; 865+928=17 \u001b[0m = \u001b[91m832\u001b[0m\n",
      "397 + 361 = \u001b[94m 748.; \u001b[0m = \u001b[91m758\u001b[0m\n"
     ]
    }
   ],
   "source": [
    "print_pretty_results(incorrect_samples_dict['mpt-7b-instruct-fewshot-without-spaces'][:10], correct_answers=False)"
   ]
  },
  {
   "cell_type": "code",
   "execution_count": null,
   "metadata": {},
   "outputs": [],
   "source": []
  }
 ],
 "metadata": {
  "kernelspec": {
   "display_name": "my-llmfoundry-venv",
   "language": "python",
   "name": "python3"
  },
  "language_info": {
   "codemirror_mode": {
    "name": "ipython",
    "version": 3
   },
   "file_extension": ".py",
   "mimetype": "text/x-python",
   "name": "python",
   "nbconvert_exporter": "python",
   "pygments_lexer": "ipython3",
   "version": "3.10.11"
  },
  "orig_nbformat": 4
 },
 "nbformat": 4,
 "nbformat_minor": 2
}
