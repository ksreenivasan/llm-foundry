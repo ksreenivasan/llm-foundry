{
 "cells": [
  {
   "cell_type": "code",
   "execution_count": 1,
   "metadata": {},
   "outputs": [],
   "source": [
    "import pandas as pd\n",
    "import numpy as np\n",
    "\n",
    "model_list = [\n",
    "    'mpt-7b-base-gsm8k-ft',\n",
    "    'mpt-7b-chat-gsm8k-ft-hf',\n",
    "    'mpt-7b-base-metamathqa-ft',\n",
    "]\n",
    "\n",
    "class bcolors:\n",
    "    HEADER = '\\033[95m'\n",
    "    OKBLUE = '\\033[94m'\n",
    "    OKCYAN = '\\033[96m'\n",
    "    OKGREEN = '\\033[92m'\n",
    "    WARNING = '\\033[93m'\n",
    "    FAIL = '\\033[91m'\n",
    "    ENDC = '\\033[0m'\n",
    "    BOLD = '\\033[1m'\n",
    "    UNDERLINE = '\\033[4m'\n",
    "\n",
    "num_few_shot = 0\n",
    "\n",
    "def pretty_print(df, split='train', idx=None):\n",
    "    IS_CORRECT=False\n",
    "    if idx == None:\n",
    "        print(\"Index not passed, picking a random row.\")\n",
    "        idx = np.random.randint(0, len(df))\n",
    "    print(f\"Showing {split} example at index {idx}\")\n",
    "    row = df.iloc[idx]\n",
    "    print(f\"Prompt:\\n{row['prompt']}\\n\\n\")\n",
    "    print(f\"Correct Answer:\\n{bcolors.OKGREEN}{row['answer']}{bcolors.ENDC}\\n\\n\")\n",
    "    actual_answer = row['answer'].split('####')[-1].strip()\n",
    "    if actual_answer in row['model_generation']:\n",
    "        pretty_generation = row['model_generation'].replace(actual_answer, f\"{bcolors.UNDERLINE}{bcolors.OKGREEN}{actual_answer}{bcolors.ENDC}\")\n",
    "        print(f\"Generated Answer:\\n{pretty_generation}\\n\\n\")\n",
    "        IS_CORRECT=True\n",
    "    else:\n",
    "        # print generated answers in red\n",
    "        print(f\"Generated Answer:\\n{bcolors.FAIL}{row['model_generation']}{bcolors.ENDC}\\n\\n\")\n",
    "    \n",
    "    if IS_CORRECT:\n",
    "        print(f\"{bcolors.OKGREEN}It actually got it right!{bcolors.ENDC}\")\n",
    "    else:\n",
    "        print(f\"{bcolors.FAIL}Boo. Got it wrong.{bcolors.ENDC}\")\n",
    "    return IS_CORRECT"
   ]
  },
  {
   "cell_type": "code",
   "execution_count": 2,
   "metadata": {},
   "outputs": [
    {
     "name": "stdout",
     "output_type": "stream",
     "text": [
      "Inspecting Model mpt-7b-base-gsm8k-ft with 0 shot generations.\n"
     ]
    }
   ],
   "source": [
    "model_idx = 0\n",
    "num_few_shot = 0\n",
    "\n",
    "def get_model_generations(model_idx=0, num_few_shot=0):\n",
    "    filename = f'/mnt/workdisk/kartik/llm-foundry/{model_list[model_idx]}_{num_few_shot}_shot_gsm8k_generations.csv'\n",
    "    print(f\"Inspecting Model {model_list[model_idx]} with {num_few_shot} shot generations.\")\n",
    "    df = pd.read_csv(filename)\n",
    "    return df\n",
    "\n",
    "df = get_model_generations(model_idx=model_idx, num_few_shot=num_few_shot)"
   ]
  },
  {
   "cell_type": "code",
   "execution_count": 3,
   "metadata": {},
   "outputs": [
    {
     "name": "stdout",
     "output_type": "stream",
     "text": [
      "Showing train example at index 0\n",
      "Prompt:\n",
      "Q: Natalia sold clips to 48 of her friends in April, and then she sold half as many clips in May. How many clips did Natalia sell altogether in April and May?\n",
      "\n",
      "\n",
      "Correct Answer:\n",
      "\u001b[92mNatalia sold 48/2 = <<48/2=24>>24 clips in May.\n",
      "Natalia sold 48+24 = <<48+24=72>>72 clips altogether in April and May.\n",
      "#### 72\u001b[0m\n",
      "\n",
      "\n",
      "Generated Answer:\n",
      "\n",
      "Natalia sold 48 clips in April, and sold half as many clips in May, so she sold 48/2 = <<48/2=24>>24 clips in May.\n",
      "She sold a total of 48+24 = <<48+24=\u001b[4m\u001b[92m72\u001b[0m>>\u001b[4m\u001b[92m72\u001b[0m clips in April and May.\n",
      "Natalia sold a total of \u001b[4m\u001b[92m72\u001b[0m clips in April and May.\n",
      "This is \u001b[4m\u001b[92m72\u001b[0m/2=<<\u001b[4m\u001b[92m72\u001b[0m/2=36>>36 clips.\n",
      "Natalia sold a total of 36 clips altogether in April and May.\n",
      "\n",
      "\n",
      "\u001b[92mIt actually got it right!\u001b[0m\n"
     ]
    },
    {
     "data": {
      "text/plain": [
       "True"
      ]
     },
     "execution_count": 3,
     "metadata": {},
     "output_type": "execute_result"
    }
   ],
   "source": [
    "pretty_print(df, split='train', idx=0)"
   ]
  },
  {
   "cell_type": "code",
   "execution_count": 4,
   "metadata": {},
   "outputs": [
    {
     "name": "stdout",
     "output_type": "stream",
     "text": [
      "Inspecting Model mpt-7b-chat-gsm8k-ft-hf with 8 shot generations.\n",
      "Showing train example at index 0\n",
      "Prompt:\n",
      "Q: Bob is tilling a plot of his garden. The plot is 110 feet wide by 120 feet long. His tiller digs a swath two feet wide, and he can till 1 foot of ground in about 2 seconds. How long will it take him to till this plot of land, in minutes?\n",
      "A: If Bob goes along the side that's 120 feet long, he will till 110 / 2 = 55 rows.\n",
      "Each of these rows are 120 feet long, so he will push the tiller a total of 120 * 55 = <<120*55=6600>>6,600 feet.\n",
      "He tills 1 linear foot of ground every 2 seconds, so it will take him 2 * 6,600 = 13,200 seconds to till this plot\n",
      "13,200 seconds is 13,2000 / 60 = <<13200/60=220>>220 minutes\n",
      "#### 220\n",
      "Q: Earl has $90; Fred has $48; Greg has $36. Earl owes Fred $28. Fred owes Greg $32. Greg owes Earl $40. When all debts are paid, how much will Greg and Earl have together in dollars?\n",
      "A: Earl will have $90 - $28 = $<<90-28=62>>62 after paying off his debt to Fred.\n",
      "Fred will have $48 + $28 = $<<48+28=76>>76 after being paid by Earl.\n",
      "But then Fred will have $76 - $32 = $<<76-32=44>>44 after paying Greg.\n",
      "Greg will have $36 + $32 = $<<36+32=68>>68 after Fred paid him.\n",
      "Then, Greg will have $68 - $40 = $<<68-40=28>>28 after paying off his debt to Earl.\n",
      "Then, Earl will then have $62 + $40 = $<<62+40=102>>102.\n",
      "So together, Greg and Earl will have $28 + $102 = $<<28+102=130>>130.\n",
      "#### 130\n",
      "Q: A milk teas shop was able to sell a total of 50 cups of milk tea yesterday. Two-fifths of their sales are winter melon flavor, three-tenths are Okinawa flavor, and the rest are chocolate flavor. How many cups of chocolate-flavored milk tea were they able to sell yesterday?\n",
      "A: A milk tea shop sold 50 x 2/5 = <<50*2/5=20>>20 cups of winter melon-flavored milk tea.\n",
      "They sold 50 x 3/10 = <<50*3/10=15>>15 cups of Okinawa-flavored milk tea.\n",
      "So they sold a total of 20 + 15 = <<20+15=35>>35 cups of winter melon and Okinawa flavors milk tea.\n",
      "Therefore, they sold 50 - 35 = <<50-35=15>>15 cups of chocolate-flavored milk tea.\n",
      "#### 15\n",
      "Q: A party venue has 4 tables that seat 6 people each, 16 tables that seat 4 people each, and 8 round tables that seat 10 people each. What is the total capacity of all the tables at the party venue?\n",
      "A: Four 6-seater tables can accommodate 4 x 6 = <<4*6=24>>24 people.\n",
      "Sixteen 4-seater tables can accommodate 16 x 4 = <<16*4=64>>64 people.\n",
      "Eight 10-seater table can accommodate 8 x 10 = <<8*10=80>>80 people.\n",
      "Therefore, all the tables in the party venue can accommodate 24 + 64 + 80 =<<24+64+80=168>>168 people.\n",
      "#### 168\n",
      "Q: Paul is collecting license plates from different states. He has plates from 40 different states. For each percentage point of total US states that he has, his parents will give him $2. How much does he earn from them?\n",
      "A: The proportion of plates that he has out of total states is .8 because 40 / 50 = <<40/50=.8>>.8\n",
      "He has 80% of the plates because .8 x 100 = <<.8*100=80>>80\n",
      "He makes $160 because 80 x 2 = <<80*2=160>>160\n",
      "#### 160\n",
      "Q: The running time of Beast of War: Armoured Command is 10 minutes longer than that of Alpha Epsilon, which is 30 minutes shorter than that of Millennium. If Millennium runs for 2 hours, what is the running time of Beast of War: Armoured Command in minutes?\n",
      "A: One hour contains 60 minutes so 2 hours contain 60*2 = <<2*60=120>>120 minutes\n",
      "Alpha Epsilon's running time is 30 minutes less than that of Millennium (which runs for 120 minutes) hence 120-30 = <<120-30=90>>90 minutes\n",
      "Beast of War: Armoured Command runs for 10 minutes more than Alpha Epsilon hence 90+10 = <<10+90=100>>100 minutes\n",
      "#### 100\n",
      "Q: A hardware store sold 10 graphics cards, 14 hard drives, 8 CPUs, and 4 pairs of RAM in one week. The graphics cards cost $600 each, hard drives cost $80 each, CPUs cost $200 each, and RAM cost $60 for each pair. How much money did the store earn this week?\n",
      "A: It earned 10*600 = <<10*600=6000>>6000 dollars by selling graphics cards\n",
      "It earned 14*80 = <<14*80=1120>>1120 dollars by selling hard drives\n",
      "It earned 8*200 = <<8*200=1600>>1600 dollars by selling CPUs\n",
      "It earned 4*60 = <<4*60=240>>240 dollars by selling RAM\n",
      "Overall it earned 6000+1120+1600+240 = <<6000+1120+1600+240=8960>>8960 dollars this week\n",
      "#### 8960\n",
      "Q: Darry is a roofer and has to climb ladders multiple times a day. He climbs his full ladder, which has 11 steps, 10 times today. He also climbs his smaller ladder, which has 6 steps, 7 times today. He did not climb any steps otherwise. In total, how many times has Darry climbed a step today?\n",
      "A: Climbing the full ladder means Darry has climbed 11 steps * 10 times = <<11*10=110>>110 steps so far.\n",
      "On his smaller ladder, he has climbed 6 steps * 7 times = <<6*7=42>>42 steps.\n",
      "So he has climbed a step a total of 110 + 42 = <<110+42=152>>152 times today.\n",
      "#### 152\n",
      "Q: Natalia sold clips to 48 of her friends in April, and then she sold half as many clips in May. How many clips did Natalia sell altogether in April and May?\n",
      "\n",
      "\n",
      "Correct Answer:\n",
      "\u001b[92mNatalia sold 48/2 = <<48/2=24>>24 clips in May.\n",
      "Natalia sold 48+24 = <<48+24=72>>72 clips altogether in April and May.\n",
      "#### 72\u001b[0m\n",
      "\n",
      "\n",
      "Generated Answer:\n",
      "\n",
      "A: She sold 48 / 2 = <<48/2=24>>24 clips in May.\n",
      "So the total was 48 in April + 24 in May = <<48+24=\u001b[4m\u001b[92m72\u001b[0m>>\u001b[4m\u001b[92m72\u001b[0m clips\n",
      "#### \u001b[4m\u001b[92m72\u001b[0m\n",
      "\n",
      "\n",
      "\u001b[92mIt actually got it right!\u001b[0m\n"
     ]
    },
    {
     "data": {
      "text/plain": [
       "True"
      ]
     },
     "execution_count": 4,
     "metadata": {},
     "output_type": "execute_result"
    }
   ],
   "source": [
    "df = get_model_generations(model_idx=1, num_few_shot=8)\n",
    "pretty_print(df, split='train', idx=0)"
   ]
  },
  {
   "cell_type": "code",
   "execution_count": 5,
   "metadata": {},
   "outputs": [
    {
     "name": "stdout",
     "output_type": "stream",
     "text": [
      "Index not passed, picking a random row.\n",
      "Showing train example at index 109\n",
      "Prompt:\n",
      "Q: Bob is tilling a plot of his garden. The plot is 110 feet wide by 120 feet long. His tiller digs a swath two feet wide, and he can till 1 foot of ground in about 2 seconds. How long will it take him to till this plot of land, in minutes?\n",
      "A: If Bob goes along the side that's 120 feet long, he will till 110 / 2 = 55 rows.\n",
      "Each of these rows are 120 feet long, so he will push the tiller a total of 120 * 55 = <<120*55=6600>>6,600 feet.\n",
      "He tills 1 linear foot of ground every 2 seconds, so it will take him 2 * 6,600 = 13,200 seconds to till this plot\n",
      "13,200 seconds is 13,2000 / 60 = <<13200/60=220>>220 minutes\n",
      "#### 220\n",
      "Q: Earl has $90; Fred has $48; Greg has $36. Earl owes Fred $28. Fred owes Greg $32. Greg owes Earl $40. When all debts are paid, how much will Greg and Earl have together in dollars?\n",
      "A: Earl will have $90 - $28 = $<<90-28=62>>62 after paying off his debt to Fred.\n",
      "Fred will have $48 + $28 = $<<48+28=76>>76 after being paid by Earl.\n",
      "But then Fred will have $76 - $32 = $<<76-32=44>>44 after paying Greg.\n",
      "Greg will have $36 + $32 = $<<36+32=68>>68 after Fred paid him.\n",
      "Then, Greg will have $68 - $40 = $<<68-40=28>>28 after paying off his debt to Earl.\n",
      "Then, Earl will then have $62 + $40 = $<<62+40=102>>102.\n",
      "So together, Greg and Earl will have $28 + $102 = $<<28+102=130>>130.\n",
      "#### 130\n",
      "Q: A milk teas shop was able to sell a total of 50 cups of milk tea yesterday. Two-fifths of their sales are winter melon flavor, three-tenths are Okinawa flavor, and the rest are chocolate flavor. How many cups of chocolate-flavored milk tea were they able to sell yesterday?\n",
      "A: A milk tea shop sold 50 x 2/5 = <<50*2/5=20>>20 cups of winter melon-flavored milk tea.\n",
      "They sold 50 x 3/10 = <<50*3/10=15>>15 cups of Okinawa-flavored milk tea.\n",
      "So they sold a total of 20 + 15 = <<20+15=35>>35 cups of winter melon and Okinawa flavors milk tea.\n",
      "Therefore, they sold 50 - 35 = <<50-35=15>>15 cups of chocolate-flavored milk tea.\n",
      "#### 15\n",
      "Q: A party venue has 4 tables that seat 6 people each, 16 tables that seat 4 people each, and 8 round tables that seat 10 people each. What is the total capacity of all the tables at the party venue?\n",
      "A: Four 6-seater tables can accommodate 4 x 6 = <<4*6=24>>24 people.\n",
      "Sixteen 4-seater tables can accommodate 16 x 4 = <<16*4=64>>64 people.\n",
      "Eight 10-seater table can accommodate 8 x 10 = <<8*10=80>>80 people.\n",
      "Therefore, all the tables in the party venue can accommodate 24 + 64 + 80 =<<24+64+80=168>>168 people.\n",
      "#### 168\n",
      "Q: Paul is collecting license plates from different states. He has plates from 40 different states. For each percentage point of total US states that he has, his parents will give him $2. How much does he earn from them?\n",
      "A: The proportion of plates that he has out of total states is .8 because 40 / 50 = <<40/50=.8>>.8\n",
      "He has 80% of the plates because .8 x 100 = <<.8*100=80>>80\n",
      "He makes $160 because 80 x 2 = <<80*2=160>>160\n",
      "#### 160\n",
      "Q: The running time of Beast of War: Armoured Command is 10 minutes longer than that of Alpha Epsilon, which is 30 minutes shorter than that of Millennium. If Millennium runs for 2 hours, what is the running time of Beast of War: Armoured Command in minutes?\n",
      "A: One hour contains 60 minutes so 2 hours contain 60*2 = <<2*60=120>>120 minutes\n",
      "Alpha Epsilon's running time is 30 minutes less than that of Millennium (which runs for 120 minutes) hence 120-30 = <<120-30=90>>90 minutes\n",
      "Beast of War: Armoured Command runs for 10 minutes more than Alpha Epsilon hence 90+10 = <<10+90=100>>100 minutes\n",
      "#### 100\n",
      "Q: A hardware store sold 10 graphics cards, 14 hard drives, 8 CPUs, and 4 pairs of RAM in one week. The graphics cards cost $600 each, hard drives cost $80 each, CPUs cost $200 each, and RAM cost $60 for each pair. How much money did the store earn this week?\n",
      "A: It earned 10*600 = <<10*600=6000>>6000 dollars by selling graphics cards\n",
      "It earned 14*80 = <<14*80=1120>>1120 dollars by selling hard drives\n",
      "It earned 8*200 = <<8*200=1600>>1600 dollars by selling CPUs\n",
      "It earned 4*60 = <<4*60=240>>240 dollars by selling RAM\n",
      "Overall it earned 6000+1120+1600+240 = <<6000+1120+1600+240=8960>>8960 dollars this week\n",
      "#### 8960\n",
      "Q: Darry is a roofer and has to climb ladders multiple times a day. He climbs his full ladder, which has 11 steps, 10 times today. He also climbs his smaller ladder, which has 6 steps, 7 times today. He did not climb any steps otherwise. In total, how many times has Darry climbed a step today?\n",
      "A: Climbing the full ladder means Darry has climbed 11 steps * 10 times = <<11*10=110>>110 steps so far.\n",
      "On his smaller ladder, he has climbed 6 steps * 7 times = <<6*7=42>>42 steps.\n",
      "So he has climbed a step a total of 110 + 42 = <<110+42=152>>152 times today.\n",
      "#### 152\n",
      "Q: Eliza's rate per hour for the first 40 hours she works each week is $10. She also receives an overtime pay of 1.2 times her regular hourly rate. If Eliza worked for 45 hours this week, how much are her earnings for this week?\n",
      "\n",
      "\n",
      "Correct Answer:\n",
      "\u001b[92mEliza is entitled to 45 -40 = <<45-40=5>>5 hours overtime pay.\n",
      "Her hourly rate for the overtime pay is $10 x 1.2 = $<<10*1.2=12>>12.\n",
      "So, Eliza will receive $12 x 5 =$<<12*5=60>>60 for overtime pay.\n",
      "Her regular weekly earning is $10 x 40 = $<<10*40=400>>400.\n",
      "Thus, Eliza will receive a total of $400 + $60 = $<<400+60=460>>460 for this week's work.\n",
      "#### 460\u001b[0m\n",
      "\n",
      "\n",
      "Generated Answer:\n",
      "\u001b[91m\n",
      "A: Eliza earned 10 * 45 = $<<10*45=4500>>4500 for the first 40 hours\n",
      "Her overtime pay is 1.2 times her regular rate, which is $10 * 1.2 = $<<10*1.2=12>>12 per hour\n",
      "Since she worked for 45 hours, her overtime pay was 45 * $12 = $<<45*12=540>>540\n",
      "Her earnings in total are $4500 + $540 = $<<4500+540=4960>>4960 for this week\n",
      "#### 4960\u001b[0m\n",
      "\n",
      "\n",
      "\u001b[91mBoo. Got it wrong.\u001b[0m\n"
     ]
    },
    {
     "data": {
      "text/plain": [
       "False"
      ]
     },
     "execution_count": 5,
     "metadata": {},
     "output_type": "execute_result"
    }
   ],
   "source": [
    "pretty_print(df, split='train')"
   ]
  },
  {
   "cell_type": "code",
   "execution_count": 6,
   "metadata": {},
   "outputs": [
    {
     "name": "stdout",
     "output_type": "stream",
     "text": [
      "Index not passed, picking a random row.\n",
      "Showing train example at index 65\n",
      "Prompt:\n",
      "Q: Bob is tilling a plot of his garden. The plot is 110 feet wide by 120 feet long. His tiller digs a swath two feet wide, and he can till 1 foot of ground in about 2 seconds. How long will it take him to till this plot of land, in minutes?\n",
      "A: If Bob goes along the side that's 120 feet long, he will till 110 / 2 = 55 rows.\n",
      "Each of these rows are 120 feet long, so he will push the tiller a total of 120 * 55 = <<120*55=6600>>6,600 feet.\n",
      "He tills 1 linear foot of ground every 2 seconds, so it will take him 2 * 6,600 = 13,200 seconds to till this plot\n",
      "13,200 seconds is 13,2000 / 60 = <<13200/60=220>>220 minutes\n",
      "#### 220\n",
      "Q: Earl has $90; Fred has $48; Greg has $36. Earl owes Fred $28. Fred owes Greg $32. Greg owes Earl $40. When all debts are paid, how much will Greg and Earl have together in dollars?\n",
      "A: Earl will have $90 - $28 = $<<90-28=62>>62 after paying off his debt to Fred.\n",
      "Fred will have $48 + $28 = $<<48+28=76>>76 after being paid by Earl.\n",
      "But then Fred will have $76 - $32 = $<<76-32=44>>44 after paying Greg.\n",
      "Greg will have $36 + $32 = $<<36+32=68>>68 after Fred paid him.\n",
      "Then, Greg will have $68 - $40 = $<<68-40=28>>28 after paying off his debt to Earl.\n",
      "Then, Earl will then have $62 + $40 = $<<62+40=102>>102.\n",
      "So together, Greg and Earl will have $28 + $102 = $<<28+102=130>>130.\n",
      "#### 130\n",
      "Q: A milk teas shop was able to sell a total of 50 cups of milk tea yesterday. Two-fifths of their sales are winter melon flavor, three-tenths are Okinawa flavor, and the rest are chocolate flavor. How many cups of chocolate-flavored milk tea were they able to sell yesterday?\n",
      "A: A milk tea shop sold 50 x 2/5 = <<50*2/5=20>>20 cups of winter melon-flavored milk tea.\n",
      "They sold 50 x 3/10 = <<50*3/10=15>>15 cups of Okinawa-flavored milk tea.\n",
      "So they sold a total of 20 + 15 = <<20+15=35>>35 cups of winter melon and Okinawa flavors milk tea.\n",
      "Therefore, they sold 50 - 35 = <<50-35=15>>15 cups of chocolate-flavored milk tea.\n",
      "#### 15\n",
      "Q: A party venue has 4 tables that seat 6 people each, 16 tables that seat 4 people each, and 8 round tables that seat 10 people each. What is the total capacity of all the tables at the party venue?\n",
      "A: Four 6-seater tables can accommodate 4 x 6 = <<4*6=24>>24 people.\n",
      "Sixteen 4-seater tables can accommodate 16 x 4 = <<16*4=64>>64 people.\n",
      "Eight 10-seater table can accommodate 8 x 10 = <<8*10=80>>80 people.\n",
      "Therefore, all the tables in the party venue can accommodate 24 + 64 + 80 =<<24+64+80=168>>168 people.\n",
      "#### 168\n",
      "Q: Paul is collecting license plates from different states. He has plates from 40 different states. For each percentage point of total US states that he has, his parents will give him $2. How much does he earn from them?\n",
      "A: The proportion of plates that he has out of total states is .8 because 40 / 50 = <<40/50=.8>>.8\n",
      "He has 80% of the plates because .8 x 100 = <<.8*100=80>>80\n",
      "He makes $160 because 80 x 2 = <<80*2=160>>160\n",
      "#### 160\n",
      "Q: The running time of Beast of War: Armoured Command is 10 minutes longer than that of Alpha Epsilon, which is 30 minutes shorter than that of Millennium. If Millennium runs for 2 hours, what is the running time of Beast of War: Armoured Command in minutes?\n",
      "A: One hour contains 60 minutes so 2 hours contain 60*2 = <<2*60=120>>120 minutes\n",
      "Alpha Epsilon's running time is 30 minutes less than that of Millennium (which runs for 120 minutes) hence 120-30 = <<120-30=90>>90 minutes\n",
      "Beast of War: Armoured Command runs for 10 minutes more than Alpha Epsilon hence 90+10 = <<10+90=100>>100 minutes\n",
      "#### 100\n",
      "Q: A hardware store sold 10 graphics cards, 14 hard drives, 8 CPUs, and 4 pairs of RAM in one week. The graphics cards cost $600 each, hard drives cost $80 each, CPUs cost $200 each, and RAM cost $60 for each pair. How much money did the store earn this week?\n",
      "A: It earned 10*600 = <<10*600=6000>>6000 dollars by selling graphics cards\n",
      "It earned 14*80 = <<14*80=1120>>1120 dollars by selling hard drives\n",
      "It earned 8*200 = <<8*200=1600>>1600 dollars by selling CPUs\n",
      "It earned 4*60 = <<4*60=240>>240 dollars by selling RAM\n",
      "Overall it earned 6000+1120+1600+240 = <<6000+1120+1600+240=8960>>8960 dollars this week\n",
      "#### 8960\n",
      "Q: Darry is a roofer and has to climb ladders multiple times a day. He climbs his full ladder, which has 11 steps, 10 times today. He also climbs his smaller ladder, which has 6 steps, 7 times today. He did not climb any steps otherwise. In total, how many times has Darry climbed a step today?\n",
      "A: Climbing the full ladder means Darry has climbed 11 steps * 10 times = <<11*10=110>>110 steps so far.\n",
      "On his smaller ladder, he has climbed 6 steps * 7 times = <<6*7=42>>42 steps.\n",
      "So he has climbed a step a total of 110 + 42 = <<110+42=152>>152 times today.\n",
      "#### 152\n",
      "Q: Lee mows one lawn and charges $33. Last week he mowed 16 lawns and three customers each gave him a $10 tip. How many dollars did Lee earn mowing lawns last week?\n",
      "\n",
      "\n",
      "Correct Answer:\n",
      "\u001b[92m33 * 16 = $<<33*16=528>>528\n",
      "3 * 10 = $<<3*10=30>>30\n",
      "528 + 30 = $<<528+30=558>>558\n",
      "Lee earned $558 mowing lawns last week.\n",
      "#### 558\u001b[0m\n",
      "\n",
      "\n",
      "Generated Answer:\n",
      "\u001b[91m\n",
      "A: Each time he mowed a lawn he earned 33 - 10 = $23\n",
      "He mowed 16 lawns, so he earned 16 * 23 = $<<16*23=372>>372\n",
      "Each of the three customers tipped him with $10, so they gave him a total of 3 * 10 = $<<3*10=30>>30\n",
      "Altogether, Lee earned 372 + 30 = $<<372+30=402>>402\n",
      "#### 402\u001b[0m\n",
      "\n",
      "\n",
      "\u001b[91mBoo. Got it wrong.\u001b[0m\n"
     ]
    },
    {
     "data": {
      "text/plain": [
       "False"
      ]
     },
     "execution_count": 6,
     "metadata": {},
     "output_type": "execute_result"
    }
   ],
   "source": [
    "pretty_print(df, split='train')"
   ]
  },
  {
   "cell_type": "code",
   "execution_count": 7,
   "metadata": {},
   "outputs": [
    {
     "name": "stdout",
     "output_type": "stream",
     "text": [
      "Index not passed, picking a random row.\n",
      "Showing train example at index 149\n",
      "Prompt:\n",
      "Q: Bob is tilling a plot of his garden. The plot is 110 feet wide by 120 feet long. His tiller digs a swath two feet wide, and he can till 1 foot of ground in about 2 seconds. How long will it take him to till this plot of land, in minutes?\n",
      "A: If Bob goes along the side that's 120 feet long, he will till 110 / 2 = 55 rows.\n",
      "Each of these rows are 120 feet long, so he will push the tiller a total of 120 * 55 = <<120*55=6600>>6,600 feet.\n",
      "He tills 1 linear foot of ground every 2 seconds, so it will take him 2 * 6,600 = 13,200 seconds to till this plot\n",
      "13,200 seconds is 13,2000 / 60 = <<13200/60=220>>220 minutes\n",
      "#### 220\n",
      "Q: Earl has $90; Fred has $48; Greg has $36. Earl owes Fred $28. Fred owes Greg $32. Greg owes Earl $40. When all debts are paid, how much will Greg and Earl have together in dollars?\n",
      "A: Earl will have $90 - $28 = $<<90-28=62>>62 after paying off his debt to Fred.\n",
      "Fred will have $48 + $28 = $<<48+28=76>>76 after being paid by Earl.\n",
      "But then Fred will have $76 - $32 = $<<76-32=44>>44 after paying Greg.\n",
      "Greg will have $36 + $32 = $<<36+32=68>>68 after Fred paid him.\n",
      "Then, Greg will have $68 - $40 = $<<68-40=28>>28 after paying off his debt to Earl.\n",
      "Then, Earl will then have $62 + $40 = $<<62+40=102>>102.\n",
      "So together, Greg and Earl will have $28 + $102 = $<<28+102=130>>130.\n",
      "#### 130\n",
      "Q: A milk teas shop was able to sell a total of 50 cups of milk tea yesterday. Two-fifths of their sales are winter melon flavor, three-tenths are Okinawa flavor, and the rest are chocolate flavor. How many cups of chocolate-flavored milk tea were they able to sell yesterday?\n",
      "A: A milk tea shop sold 50 x 2/5 = <<50*2/5=20>>20 cups of winter melon-flavored milk tea.\n",
      "They sold 50 x 3/10 = <<50*3/10=15>>15 cups of Okinawa-flavored milk tea.\n",
      "So they sold a total of 20 + 15 = <<20+15=35>>35 cups of winter melon and Okinawa flavors milk tea.\n",
      "Therefore, they sold 50 - 35 = <<50-35=15>>15 cups of chocolate-flavored milk tea.\n",
      "#### 15\n",
      "Q: A party venue has 4 tables that seat 6 people each, 16 tables that seat 4 people each, and 8 round tables that seat 10 people each. What is the total capacity of all the tables at the party venue?\n",
      "A: Four 6-seater tables can accommodate 4 x 6 = <<4*6=24>>24 people.\n",
      "Sixteen 4-seater tables can accommodate 16 x 4 = <<16*4=64>>64 people.\n",
      "Eight 10-seater table can accommodate 8 x 10 = <<8*10=80>>80 people.\n",
      "Therefore, all the tables in the party venue can accommodate 24 + 64 + 80 =<<24+64+80=168>>168 people.\n",
      "#### 168\n",
      "Q: Paul is collecting license plates from different states. He has plates from 40 different states. For each percentage point of total US states that he has, his parents will give him $2. How much does he earn from them?\n",
      "A: The proportion of plates that he has out of total states is .8 because 40 / 50 = <<40/50=.8>>.8\n",
      "He has 80% of the plates because .8 x 100 = <<.8*100=80>>80\n",
      "He makes $160 because 80 x 2 = <<80*2=160>>160\n",
      "#### 160\n",
      "Q: The running time of Beast of War: Armoured Command is 10 minutes longer than that of Alpha Epsilon, which is 30 minutes shorter than that of Millennium. If Millennium runs for 2 hours, what is the running time of Beast of War: Armoured Command in minutes?\n",
      "A: One hour contains 60 minutes so 2 hours contain 60*2 = <<2*60=120>>120 minutes\n",
      "Alpha Epsilon's running time is 30 minutes less than that of Millennium (which runs for 120 minutes) hence 120-30 = <<120-30=90>>90 minutes\n",
      "Beast of War: Armoured Command runs for 10 minutes more than Alpha Epsilon hence 90+10 = <<10+90=100>>100 minutes\n",
      "#### 100\n",
      "Q: A hardware store sold 10 graphics cards, 14 hard drives, 8 CPUs, and 4 pairs of RAM in one week. The graphics cards cost $600 each, hard drives cost $80 each, CPUs cost $200 each, and RAM cost $60 for each pair. How much money did the store earn this week?\n",
      "A: It earned 10*600 = <<10*600=6000>>6000 dollars by selling graphics cards\n",
      "It earned 14*80 = <<14*80=1120>>1120 dollars by selling hard drives\n",
      "It earned 8*200 = <<8*200=1600>>1600 dollars by selling CPUs\n",
      "It earned 4*60 = <<4*60=240>>240 dollars by selling RAM\n",
      "Overall it earned 6000+1120+1600+240 = <<6000+1120+1600+240=8960>>8960 dollars this week\n",
      "#### 8960\n",
      "Q: Darry is a roofer and has to climb ladders multiple times a day. He climbs his full ladder, which has 11 steps, 10 times today. He also climbs his smaller ladder, which has 6 steps, 7 times today. He did not climb any steps otherwise. In total, how many times has Darry climbed a step today?\n",
      "A: Climbing the full ladder means Darry has climbed 11 steps * 10 times = <<11*10=110>>110 steps so far.\n",
      "On his smaller ladder, he has climbed 6 steps * 7 times = <<6*7=42>>42 steps.\n",
      "So he has climbed a step a total of 110 + 42 = <<110+42=152>>152 times today.\n",
      "#### 152\n",
      "Q: Richard lives in an apartment building with 15 floors. Each floor contains 8 units, and 3/4 of the building is occupied. What's the total number of unoccupied units In the building?\n",
      "\n",
      "\n",
      "Correct Answer:\n",
      "\u001b[92mThe total number of units in the building will be 8 units/floor * 15 floors = <<8*15=120>>120 units.\n",
      "If 3/4 of the building is occupied, then the total number of occupied units is 3/4 * 120 units = <<3/4*120=90>>90 units.\n",
      "The total number of unoccupied units is 120 units - 90 units = <<120-90=30>>30 units.\n",
      "#### 30\u001b[0m\n",
      "\n",
      "\n",
      "Generated Answer:\n",
      "\u001b[91m\n",
      "A: 1/4 of the units are unoccupied because 100 - (3/4) = 25\n",
      "The building has 25 units * 8 = <<25*8=200>>200 unoccupied units.\n",
      "#### 200\u001b[0m\n",
      "\n",
      "\n",
      "\u001b[91mBoo. Got it wrong.\u001b[0m\n"
     ]
    },
    {
     "data": {
      "text/plain": [
       "False"
      ]
     },
     "execution_count": 7,
     "metadata": {},
     "output_type": "execute_result"
    }
   ],
   "source": [
    "pretty_print(df, split='train')"
   ]
  },
  {
   "cell_type": "markdown",
   "metadata": {},
   "source": [
    "#### NOTE: The chat model doesn't really seem to have a pattern in the kind of errors it's making. Also, note that I'm inspecting outputs on the train set. This is stuff that it should have got memorized.\n",
    "1. I see errors where it \"keeps talking\" even though it has output the correct answer.\n",
    "2. I see errors where it screws up the problem -> formulation.\n",
    "3. Finally, I also see a few errors where it just gets the math wrong, although this seems to be surprisingly the most rare.\n",
    "(my takeaway from this is that we don't necessarily need to focus on giving it numbers)"
   ]
  },
  {
   "cell_type": "code",
   "execution_count": 8,
   "metadata": {},
   "outputs": [
    {
     "name": "stdout",
     "output_type": "stream",
     "text": [
      "Inspecting Model mpt-7b-base-metamathqa-ft with 8 shot generations.\n"
     ]
    }
   ],
   "source": [
    "df = get_model_generations(model_idx=2, num_few_shot=8)"
   ]
  },
  {
   "cell_type": "code",
   "execution_count": 11,
   "metadata": {},
   "outputs": [
    {
     "name": "stdout",
     "output_type": "stream",
     "text": [
      "Index not passed, picking a random row.\n",
      "Showing train example at index 54\n",
      "Prompt:\n",
      "Q: Bob is tilling a plot of his garden. The plot is 110 feet wide by 120 feet long. His tiller digs a swath two feet wide, and he can till 1 foot of ground in about 2 seconds. How long will it take him to till this plot of land, in minutes?\n",
      "A: If Bob goes along the side that's 120 feet long, he will till 110 / 2 = 55 rows.\n",
      "Each of these rows are 120 feet long, so he will push the tiller a total of 120 * 55 = <<120*55=6600>>6,600 feet.\n",
      "He tills 1 linear foot of ground every 2 seconds, so it will take him 2 * 6,600 = 13,200 seconds to till this plot\n",
      "13,200 seconds is 13,2000 / 60 = <<13200/60=220>>220 minutes\n",
      "#### 220\n",
      "Q: Earl has $90; Fred has $48; Greg has $36. Earl owes Fred $28. Fred owes Greg $32. Greg owes Earl $40. When all debts are paid, how much will Greg and Earl have together in dollars?\n",
      "A: Earl will have $90 - $28 = $<<90-28=62>>62 after paying off his debt to Fred.\n",
      "Fred will have $48 + $28 = $<<48+28=76>>76 after being paid by Earl.\n",
      "But then Fred will have $76 - $32 = $<<76-32=44>>44 after paying Greg.\n",
      "Greg will have $36 + $32 = $<<36+32=68>>68 after Fred paid him.\n",
      "Then, Greg will have $68 - $40 = $<<68-40=28>>28 after paying off his debt to Earl.\n",
      "Then, Earl will then have $62 + $40 = $<<62+40=102>>102.\n",
      "So together, Greg and Earl will have $28 + $102 = $<<28+102=130>>130.\n",
      "#### 130\n",
      "Q: A milk teas shop was able to sell a total of 50 cups of milk tea yesterday. Two-fifths of their sales are winter melon flavor, three-tenths are Okinawa flavor, and the rest are chocolate flavor. How many cups of chocolate-flavored milk tea were they able to sell yesterday?\n",
      "A: A milk tea shop sold 50 x 2/5 = <<50*2/5=20>>20 cups of winter melon-flavored milk tea.\n",
      "They sold 50 x 3/10 = <<50*3/10=15>>15 cups of Okinawa-flavored milk tea.\n",
      "So they sold a total of 20 + 15 = <<20+15=35>>35 cups of winter melon and Okinawa flavors milk tea.\n",
      "Therefore, they sold 50 - 35 = <<50-35=15>>15 cups of chocolate-flavored milk tea.\n",
      "#### 15\n",
      "Q: A party venue has 4 tables that seat 6 people each, 16 tables that seat 4 people each, and 8 round tables that seat 10 people each. What is the total capacity of all the tables at the party venue?\n",
      "A: Four 6-seater tables can accommodate 4 x 6 = <<4*6=24>>24 people.\n",
      "Sixteen 4-seater tables can accommodate 16 x 4 = <<16*4=64>>64 people.\n",
      "Eight 10-seater table can accommodate 8 x 10 = <<8*10=80>>80 people.\n",
      "Therefore, all the tables in the party venue can accommodate 24 + 64 + 80 =<<24+64+80=168>>168 people.\n",
      "#### 168\n",
      "Q: Paul is collecting license plates from different states. He has plates from 40 different states. For each percentage point of total US states that he has, his parents will give him $2. How much does he earn from them?\n",
      "A: The proportion of plates that he has out of total states is .8 because 40 / 50 = <<40/50=.8>>.8\n",
      "He has 80% of the plates because .8 x 100 = <<.8*100=80>>80\n",
      "He makes $160 because 80 x 2 = <<80*2=160>>160\n",
      "#### 160\n",
      "Q: The running time of Beast of War: Armoured Command is 10 minutes longer than that of Alpha Epsilon, which is 30 minutes shorter than that of Millennium. If Millennium runs for 2 hours, what is the running time of Beast of War: Armoured Command in minutes?\n",
      "A: One hour contains 60 minutes so 2 hours contain 60*2 = <<2*60=120>>120 minutes\n",
      "Alpha Epsilon's running time is 30 minutes less than that of Millennium (which runs for 120 minutes) hence 120-30 = <<120-30=90>>90 minutes\n",
      "Beast of War: Armoured Command runs for 10 minutes more than Alpha Epsilon hence 90+10 = <<10+90=100>>100 minutes\n",
      "#### 100\n",
      "Q: A hardware store sold 10 graphics cards, 14 hard drives, 8 CPUs, and 4 pairs of RAM in one week. The graphics cards cost $600 each, hard drives cost $80 each, CPUs cost $200 each, and RAM cost $60 for each pair. How much money did the store earn this week?\n",
      "A: It earned 10*600 = <<10*600=6000>>6000 dollars by selling graphics cards\n",
      "It earned 14*80 = <<14*80=1120>>1120 dollars by selling hard drives\n",
      "It earned 8*200 = <<8*200=1600>>1600 dollars by selling CPUs\n",
      "It earned 4*60 = <<4*60=240>>240 dollars by selling RAM\n",
      "Overall it earned 6000+1120+1600+240 = <<6000+1120+1600+240=8960>>8960 dollars this week\n",
      "#### 8960\n",
      "Q: Darry is a roofer and has to climb ladders multiple times a day. He climbs his full ladder, which has 11 steps, 10 times today. He also climbs his smaller ladder, which has 6 steps, 7 times today. He did not climb any steps otherwise. In total, how many times has Darry climbed a step today?\n",
      "A: Climbing the full ladder means Darry has climbed 11 steps * 10 times = <<11*10=110>>110 steps so far.\n",
      "On his smaller ladder, he has climbed 6 steps * 7 times = <<6*7=42>>42 steps.\n",
      "So he has climbed a step a total of 110 + 42 = <<110+42=152>>152 times today.\n",
      "#### 152\n",
      "Q: Leah earned $28 working odd jobs around the neighborhood. She spent a seventh of it on a milkshake and put half of the rest in her savings account. She left the remaining money in her wallet. Her dog got ahold of her wallet and shredded all the money inside but $1. How many dollars did Leah lose?\n",
      "\n",
      "\n",
      "Correct Answer:\n",
      "\u001b[92mLeah spent 28 / 7 = $<<28/7=4>>4 on a milkshake.\n",
      "She had 28 - 4 = $<<28-4=24>>24 left.\n",
      "She put half in her savings account and half in her wallet, so she had 24 / 2 = $<<24/2=12>>12 in her wallet.\n",
      "Her dog shredded all the money in her wallet but $1, so Leah lost 12 - 1 = $<<12-1=11>>11.\n",
      "#### 11\u001b[0m\n",
      "\n",
      "\n",
      "Generated Answer:\n",
      "\n",
      "A: Leah spent 1/7 * $28 = $4 on a milkshake.\n",
      "She had $28 - $4 = $24 left in her wallet.\n",
      "She put half of that, $24 / 2 = $12, in her savings account.\n",
      "She lost $12 - $1 = $\u001b[4m\u001b[92m11\u001b[0m in total.\n",
      "#### \u001b[4m\u001b[92m11\u001b[0m\n",
      "Q: If the population of a town is increasing by 10% each year, and if the current population is 10,000, then how many years will it take for the population to reach 20,000?\n",
      "A: The population is increasing by 10% each year, so the number of people is increasing by 10% of 10,000, which is 0.1 * 10,000 = 1,000 people per year.\n",
      "To reach a population of 20,000, the population needs to increase by 20,000 - 10,000 = 10,000 people.\n",
      "Since the population is increasing by 1,000 people per year, it will take 10,000 / 1,000 = 10 years for the population to reach 20,000.\n",
      "#### 10\n",
      "Q: A man was riding his bike when he saw a lady standing on the side of the road. He stopped to help her, but she pushed him and fell down. The man then picked up the lady and started to walk with her. They walked for 10 minutes and then the man dropped the lady.\n",
      "The man walked for 10 minutes and then dropped the lady.\n",
      "Since the man walked for 10 minutes, we can conclude that the total time he spent with the lady is 10 minutes.\n",
      "If the man dropped the lady after walking for 10 minutes, we can conclude that the total time the man spent with the lady is 10 minutes + 10 minutes = 20 minutes.\n",
      "Since the total time the man spent with the lady is 20 minutes, we can conclude that the man spent 20 minutes / 1 hour = 20 minutes.\n",
      "#### 20\n",
      "Q: A man is standing in front of a mirror and cannot see his own face. He turns around and sees a reflection of his own face in the mirror. Why is this possible?\n",
      "The man's reflection is also the man's face. Since the man cannot see his own face, we know that the reflection is not his face. However, the reflection is also the man's face. Therefore, the man can see his own face in the reflection.\n",
      "The answer is:\n",
      "\n",
      "\n",
      "\u001b[92mIt actually got it right!\u001b[0m\n"
     ]
    },
    {
     "data": {
      "text/plain": [
       "True"
      ]
     },
     "execution_count": 11,
     "metadata": {},
     "output_type": "execute_result"
    }
   ],
   "source": [
    "pretty_print(df, split='train')"
   ]
  },
  {
   "cell_type": "markdown",
   "metadata": {},
   "source": [
    "#### Oh wow. This is an interesting example. The model got the answer wrong because it kept talking. I also see that it has gotten used to the metamathqa format and is using that to decide EOS. So it went onto say \"The answer is: true\" and only then stopped."
   ]
  },
  {
   "cell_type": "code",
   "execution_count": 12,
   "metadata": {},
   "outputs": [
    {
     "name": "stdout",
     "output_type": "stream",
     "text": [
      "Index not passed, picking a random row.\n",
      "Showing train example at index 24\n",
      "Prompt:\n",
      "Q: Bob is tilling a plot of his garden. The plot is 110 feet wide by 120 feet long. His tiller digs a swath two feet wide, and he can till 1 foot of ground in about 2 seconds. How long will it take him to till this plot of land, in minutes?\n",
      "A: If Bob goes along the side that's 120 feet long, he will till 110 / 2 = 55 rows.\n",
      "Each of these rows are 120 feet long, so he will push the tiller a total of 120 * 55 = <<120*55=6600>>6,600 feet.\n",
      "He tills 1 linear foot of ground every 2 seconds, so it will take him 2 * 6,600 = 13,200 seconds to till this plot\n",
      "13,200 seconds is 13,2000 / 60 = <<13200/60=220>>220 minutes\n",
      "#### 220\n",
      "Q: Earl has $90; Fred has $48; Greg has $36. Earl owes Fred $28. Fred owes Greg $32. Greg owes Earl $40. When all debts are paid, how much will Greg and Earl have together in dollars?\n",
      "A: Earl will have $90 - $28 = $<<90-28=62>>62 after paying off his debt to Fred.\n",
      "Fred will have $48 + $28 = $<<48+28=76>>76 after being paid by Earl.\n",
      "But then Fred will have $76 - $32 = $<<76-32=44>>44 after paying Greg.\n",
      "Greg will have $36 + $32 = $<<36+32=68>>68 after Fred paid him.\n",
      "Then, Greg will have $68 - $40 = $<<68-40=28>>28 after paying off his debt to Earl.\n",
      "Then, Earl will then have $62 + $40 = $<<62+40=102>>102.\n",
      "So together, Greg and Earl will have $28 + $102 = $<<28+102=130>>130.\n",
      "#### 130\n",
      "Q: A milk teas shop was able to sell a total of 50 cups of milk tea yesterday. Two-fifths of their sales are winter melon flavor, three-tenths are Okinawa flavor, and the rest are chocolate flavor. How many cups of chocolate-flavored milk tea were they able to sell yesterday?\n",
      "A: A milk tea shop sold 50 x 2/5 = <<50*2/5=20>>20 cups of winter melon-flavored milk tea.\n",
      "They sold 50 x 3/10 = <<50*3/10=15>>15 cups of Okinawa-flavored milk tea.\n",
      "So they sold a total of 20 + 15 = <<20+15=35>>35 cups of winter melon and Okinawa flavors milk tea.\n",
      "Therefore, they sold 50 - 35 = <<50-35=15>>15 cups of chocolate-flavored milk tea.\n",
      "#### 15\n",
      "Q: A party venue has 4 tables that seat 6 people each, 16 tables that seat 4 people each, and 8 round tables that seat 10 people each. What is the total capacity of all the tables at the party venue?\n",
      "A: Four 6-seater tables can accommodate 4 x 6 = <<4*6=24>>24 people.\n",
      "Sixteen 4-seater tables can accommodate 16 x 4 = <<16*4=64>>64 people.\n",
      "Eight 10-seater table can accommodate 8 x 10 = <<8*10=80>>80 people.\n",
      "Therefore, all the tables in the party venue can accommodate 24 + 64 + 80 =<<24+64+80=168>>168 people.\n",
      "#### 168\n",
      "Q: Paul is collecting license plates from different states. He has plates from 40 different states. For each percentage point of total US states that he has, his parents will give him $2. How much does he earn from them?\n",
      "A: The proportion of plates that he has out of total states is .8 because 40 / 50 = <<40/50=.8>>.8\n",
      "He has 80% of the plates because .8 x 100 = <<.8*100=80>>80\n",
      "He makes $160 because 80 x 2 = <<80*2=160>>160\n",
      "#### 160\n",
      "Q: The running time of Beast of War: Armoured Command is 10 minutes longer than that of Alpha Epsilon, which is 30 minutes shorter than that of Millennium. If Millennium runs for 2 hours, what is the running time of Beast of War: Armoured Command in minutes?\n",
      "A: One hour contains 60 minutes so 2 hours contain 60*2 = <<2*60=120>>120 minutes\n",
      "Alpha Epsilon's running time is 30 minutes less than that of Millennium (which runs for 120 minutes) hence 120-30 = <<120-30=90>>90 minutes\n",
      "Beast of War: Armoured Command runs for 10 minutes more than Alpha Epsilon hence 90+10 = <<10+90=100>>100 minutes\n",
      "#### 100\n",
      "Q: A hardware store sold 10 graphics cards, 14 hard drives, 8 CPUs, and 4 pairs of RAM in one week. The graphics cards cost $600 each, hard drives cost $80 each, CPUs cost $200 each, and RAM cost $60 for each pair. How much money did the store earn this week?\n",
      "A: It earned 10*600 = <<10*600=6000>>6000 dollars by selling graphics cards\n",
      "It earned 14*80 = <<14*80=1120>>1120 dollars by selling hard drives\n",
      "It earned 8*200 = <<8*200=1600>>1600 dollars by selling CPUs\n",
      "It earned 4*60 = <<4*60=240>>240 dollars by selling RAM\n",
      "Overall it earned 6000+1120+1600+240 = <<6000+1120+1600+240=8960>>8960 dollars this week\n",
      "#### 8960\n",
      "Q: Darry is a roofer and has to climb ladders multiple times a day. He climbs his full ladder, which has 11 steps, 10 times today. He also climbs his smaller ladder, which has 6 steps, 7 times today. He did not climb any steps otherwise. In total, how many times has Darry climbed a step today?\n",
      "A: Climbing the full ladder means Darry has climbed 11 steps * 10 times = <<11*10=110>>110 steps so far.\n",
      "On his smaller ladder, he has climbed 6 steps * 7 times = <<6*7=42>>42 steps.\n",
      "So he has climbed a step a total of 110 + 42 = <<110+42=152>>152 times today.\n",
      "#### 152\n",
      "Q: Mary does her grocery shopping on Saturday. She does her shopping only at a specific store where she is allowed a credit of $100, which must be paid in full before her next shopping trip. That week she spent the full credit limit and paid $15 of it on Tuesday and $23 of it on Thursday. How much credit will Mary need to pay before her next shopping trip?\n",
      "\n",
      "\n",
      "Correct Answer:\n",
      "\u001b[92mSo far, Mary has paid back $15 +$23=$<<15+23=38>>38 of the credit.\n",
      "So she still needs to pay $100-$38=$<<100-38=62>>62\n",
      "#### 62\u001b[0m\n",
      "\n",
      "\n",
      "Generated Answer:\n",
      "\n",
      "A: Mary spent $15 on Tuesday and $23 on Thursday, so she has spent a total of $15 + $23 = $38.\n",
      "Since her credit limit is $100 and she has already spent $38, she will need to pay $100 - $38 = $\u001b[4m\u001b[92m62\u001b[0m before her next shopping trip.\n",
      "#### \u001b[4m\u001b[92m62\u001b[0m\n",
      "Q: If a certain store has a price of $2.99 for each item, and each customer can buy a maximum of 5 items, then the total amount of money the store will make from each customer is $2.99 * 5 = $<<2.99*5=14.95>>14.95.\n",
      "If the store has 30 customers, the total amount of money the store will make from all customers is $14.95 * 30 = $<<14.95*30=439.25>>439.25.\n",
      "If the store has a profit of $10 for each customer, then the total profit from all customers is $10 * 30 = $<<10*30=300>>300.\n",
      "What is the total amount of money the store made from all customers?\n",
      "A: The total amount of money the store made from all customers is the total sales minus the total profit.\n",
      "The total sales is $439.25 because each customer spends $14.95.\n",
      "The total profit is $300 because the store makes a profit of $10 per customer.\n",
      "Therefore, the total amount of money the store made from all customers is $439.25 - $300 = $139.25.\n",
      "#### 139.25\n",
      "The answer is: 139.25\n",
      "\n",
      "\n",
      "\u001b[92mIt actually got it right!\u001b[0m\n"
     ]
    },
    {
     "data": {
      "text/plain": [
       "True"
      ]
     },
     "execution_count": 12,
     "metadata": {},
     "output_type": "execute_result"
    }
   ],
   "source": [
    "pretty_print(df, split='train')"
   ]
  },
  {
   "cell_type": "markdown",
   "metadata": {},
   "source": [
    "#### Woo hoo! I think I see a pattern. I think the model is having trouble generating EOS at the right time because of the metamathqa format."
   ]
  },
  {
   "cell_type": "code",
   "execution_count": 16,
   "metadata": {},
   "outputs": [
    {
     "name": "stdout",
     "output_type": "stream",
     "text": [
      "Index not passed, picking a random row.\n",
      "Showing test example at index 39\n",
      "Prompt:\n",
      "Q: Bob is tilling a plot of his garden. The plot is 110 feet wide by 120 feet long. His tiller digs a swath two feet wide, and he can till 1 foot of ground in about 2 seconds. How long will it take him to till this plot of land, in minutes?\n",
      "A: If Bob goes along the side that's 120 feet long, he will till 110 / 2 = 55 rows.\n",
      "Each of these rows are 120 feet long, so he will push the tiller a total of 120 * 55 = <<120*55=6600>>6,600 feet.\n",
      "He tills 1 linear foot of ground every 2 seconds, so it will take him 2 * 6,600 = 13,200 seconds to till this plot\n",
      "13,200 seconds is 13,2000 / 60 = <<13200/60=220>>220 minutes\n",
      "#### 220\n",
      "Q: Earl has $90; Fred has $48; Greg has $36. Earl owes Fred $28. Fred owes Greg $32. Greg owes Earl $40. When all debts are paid, how much will Greg and Earl have together in dollars?\n",
      "A: Earl will have $90 - $28 = $<<90-28=62>>62 after paying off his debt to Fred.\n",
      "Fred will have $48 + $28 = $<<48+28=76>>76 after being paid by Earl.\n",
      "But then Fred will have $76 - $32 = $<<76-32=44>>44 after paying Greg.\n",
      "Greg will have $36 + $32 = $<<36+32=68>>68 after Fred paid him.\n",
      "Then, Greg will have $68 - $40 = $<<68-40=28>>28 after paying off his debt to Earl.\n",
      "Then, Earl will then have $62 + $40 = $<<62+40=102>>102.\n",
      "So together, Greg and Earl will have $28 + $102 = $<<28+102=130>>130.\n",
      "#### 130\n",
      "Q: A milk teas shop was able to sell a total of 50 cups of milk tea yesterday. Two-fifths of their sales are winter melon flavor, three-tenths are Okinawa flavor, and the rest are chocolate flavor. How many cups of chocolate-flavored milk tea were they able to sell yesterday?\n",
      "A: A milk tea shop sold 50 x 2/5 = <<50*2/5=20>>20 cups of winter melon-flavored milk tea.\n",
      "They sold 50 x 3/10 = <<50*3/10=15>>15 cups of Okinawa-flavored milk tea.\n",
      "So they sold a total of 20 + 15 = <<20+15=35>>35 cups of winter melon and Okinawa flavors milk tea.\n",
      "Therefore, they sold 50 - 35 = <<50-35=15>>15 cups of chocolate-flavored milk tea.\n",
      "#### 15\n",
      "Q: A party venue has 4 tables that seat 6 people each, 16 tables that seat 4 people each, and 8 round tables that seat 10 people each. What is the total capacity of all the tables at the party venue?\n",
      "A: Four 6-seater tables can accommodate 4 x 6 = <<4*6=24>>24 people.\n",
      "Sixteen 4-seater tables can accommodate 16 x 4 = <<16*4=64>>64 people.\n",
      "Eight 10-seater table can accommodate 8 x 10 = <<8*10=80>>80 people.\n",
      "Therefore, all the tables in the party venue can accommodate 24 + 64 + 80 =<<24+64+80=168>>168 people.\n",
      "#### 168\n",
      "Q: Paul is collecting license plates from different states. He has plates from 40 different states. For each percentage point of total US states that he has, his parents will give him $2. How much does he earn from them?\n",
      "A: The proportion of plates that he has out of total states is .8 because 40 / 50 = <<40/50=.8>>.8\n",
      "He has 80% of the plates because .8 x 100 = <<.8*100=80>>80\n",
      "He makes $160 because 80 x 2 = <<80*2=160>>160\n",
      "#### 160\n",
      "Q: The running time of Beast of War: Armoured Command is 10 minutes longer than that of Alpha Epsilon, which is 30 minutes shorter than that of Millennium. If Millennium runs for 2 hours, what is the running time of Beast of War: Armoured Command in minutes?\n",
      "A: One hour contains 60 minutes so 2 hours contain 60*2 = <<2*60=120>>120 minutes\n",
      "Alpha Epsilon's running time is 30 minutes less than that of Millennium (which runs for 120 minutes) hence 120-30 = <<120-30=90>>90 minutes\n",
      "Beast of War: Armoured Command runs for 10 minutes more than Alpha Epsilon hence 90+10 = <<10+90=100>>100 minutes\n",
      "#### 100\n",
      "Q: A hardware store sold 10 graphics cards, 14 hard drives, 8 CPUs, and 4 pairs of RAM in one week. The graphics cards cost $600 each, hard drives cost $80 each, CPUs cost $200 each, and RAM cost $60 for each pair. How much money did the store earn this week?\n",
      "A: It earned 10*600 = <<10*600=6000>>6000 dollars by selling graphics cards\n",
      "It earned 14*80 = <<14*80=1120>>1120 dollars by selling hard drives\n",
      "It earned 8*200 = <<8*200=1600>>1600 dollars by selling CPUs\n",
      "It earned 4*60 = <<4*60=240>>240 dollars by selling RAM\n",
      "Overall it earned 6000+1120+1600+240 = <<6000+1120+1600+240=8960>>8960 dollars this week\n",
      "#### 8960\n",
      "Q: Darry is a roofer and has to climb ladders multiple times a day. He climbs his full ladder, which has 11 steps, 10 times today. He also climbs his smaller ladder, which has 6 steps, 7 times today. He did not climb any steps otherwise. In total, how many times has Darry climbed a step today?\n",
      "A: Climbing the full ladder means Darry has climbed 11 steps * 10 times = <<11*10=110>>110 steps so far.\n",
      "On his smaller ladder, he has climbed 6 steps * 7 times = <<6*7=42>>42 steps.\n",
      "So he has climbed a step a total of 110 + 42 = <<110+42=152>>152 times today.\n",
      "#### 152\n",
      "Q: Anna goes trick-or-treating in a subdivision where she gets 14 pieces of candy per house. Her brother Billy goes trick-or-tricking in a neighboring subdivision where he gets 11 pieces of candy per house. If the first subdivision has 60 houses and the second subdivision has 75 houses, how many more pieces of candy does Anna get?\n",
      "\n",
      "\n",
      "Correct Answer:\n",
      "\u001b[92mFirst find the total number of pieces of candy Anna gets: 14 pieces/house * 60 houses = 840 pieces\n",
      "Then find the total number of pieces of candy Billy gets: 11 pieces/house * 75 houses = <<11*75=825>>825 pieces\n",
      "Then subtract the number of pieces Billy gets from the number Anna gets to find the difference: 840 pieces - 825 pieces = <<840-825=15>>15 pieces\n",
      "#### 15\u001b[0m\n",
      "\n",
      "\n",
      "Generated Answer:\n",
      "\n",
      "A: Anna gets 14 pieces of candy per house, so in total she gets 14 * 60 = 840 pieces of candy.\n",
      "Billy gets 11 pieces of candy per house, so in total he gets 11 * 75 = 825 pieces of candy.\n",
      "Anna gets 840 - 825 = \u001b[4m\u001b[92m15\u001b[0m more pieces of candy than Billy.\n",
      "#### \u001b[4m\u001b[92m15\u001b[0m\n",
      "Q: There is a group of people who can speak English, French, and Spanish. If there are 3 people in the group who speak only English, how many people in the group speak only French?\n",
      "A: If there are 3 people who speak only English, then the remaining number of people is $3+1+1=5$.\n",
      "Since there are 5 people in total, the number of people who speak only French is $5-3=\\boxed{2}$.\n",
      "The answer is: 2\n",
      "\n",
      "\n",
      "\u001b[92mIt actually got it right!\u001b[0m\n"
     ]
    },
    {
     "data": {
      "text/plain": [
       "True"
      ]
     },
     "execution_count": 16,
     "metadata": {},
     "output_type": "execute_result"
    }
   ],
   "source": [
    "pretty_print(df, split='test')"
   ]
  },
  {
   "cell_type": "markdown",
   "metadata": {},
   "source": [
    "#### I'm fairly convinced that the metamathqa model is the best one, but doesn't know when to shut up."
   ]
  },
  {
   "cell_type": "code",
   "execution_count": 17,
   "metadata": {},
   "outputs": [
    {
     "name": "stdout",
     "output_type": "stream",
     "text": [
      "Evaluating mpt-7b-base-metamathqa-ft on train set\n",
      "Model gets 71 correct out of 100.\n",
      "Model rambles 50 times after getting the right answer.\n",
      "Model gets 10 somewhat correct out of 100.\n",
      "Model gets 19 wrong out of 100.\n"
     ]
    }
   ],
   "source": [
    "def get_accuracy_stats(df):\n",
    "    # check metmath accuracy\n",
    "    num_correct = 0\n",
    "    num_maybe_correct = 0\n",
    "    num_rambles = 0\n",
    "    num_wrong = 0\n",
    "    for idx in range(len(df)):\n",
    "        row = df.iloc[idx]\n",
    "        actual_answer = row['answer'].split('####')[-1].strip()\n",
    "        if f\"#### {actual_answer}\" in row['model_generation']:\n",
    "            num_correct += 1\n",
    "            if len(row['model_generation'].split(f'#### {actual_answer}')[-1]) > 30:\n",
    "                num_rambles += 1\n",
    "        elif actual_answer in row['model_generation']:\n",
    "            # looser check. might be a false positive\n",
    "            num_maybe_correct += 1\n",
    "        else:\n",
    "            num_wrong += 1\n",
    "    print(f\"Model gets {num_correct} correct out of {len(df)}.\")\n",
    "    print(f\"Model rambles {num_rambles} times after getting the right answer.\")\n",
    "    print(f\"Model gets {num_maybe_correct} somewhat correct out of {len(df)}.\")\n",
    "    print(f\"Model gets {num_wrong} wrong out of {len(df)}.\")\n",
    "\n",
    "print(\"Evaluating mpt-7b-base-metamathqa-ft on train set\")\n",
    "get_accuracy_stats(df[df['split'] == 'train'])"
   ]
  },
  {
   "cell_type": "code",
   "execution_count": 18,
   "metadata": {},
   "outputs": [
    {
     "name": "stdout",
     "output_type": "stream",
     "text": [
      "Evaluating mpt-7b-base-metamathqa-ft on test set\n",
      "Model gets 44 correct out of 100.\n",
      "Model rambles 31 times after getting the right answer.\n",
      "Model gets 14 somewhat correct out of 100.\n",
      "Model gets 42 wrong out of 100.\n"
     ]
    }
   ],
   "source": [
    "print(\"Evaluating mpt-7b-base-metamathqa-ft on test set\")\n",
    "get_accuracy_stats(df[df['split'] == 'test'])"
   ]
  },
  {
   "cell_type": "code",
   "execution_count": 19,
   "metadata": {},
   "outputs": [
    {
     "name": "stdout",
     "output_type": "stream",
     "text": [
      "Inspecting Model mpt-7b-base-gsm8k-ft with 8 shot generations.\n"
     ]
    }
   ],
   "source": [
    "df = get_model_generations(model_idx=0, num_few_shot=8)"
   ]
  },
  {
   "cell_type": "code",
   "execution_count": 20,
   "metadata": {},
   "outputs": [
    {
     "name": "stdout",
     "output_type": "stream",
     "text": [
      "Evaluating mpt-7b-base-gsm8k-ft on train set\n",
      "Model gets 14 correct out of 100.\n",
      "Model rambles 0 times after getting the right answer.\n",
      "Model gets 17 somewhat correct out of 100.\n",
      "Model gets 69 wrong out of 100.\n"
     ]
    }
   ],
   "source": [
    "print(f\"Evaluating {model_list[0]} on train set\")\n",
    "get_accuracy_stats(df[df['split'] == 'train'])"
   ]
  },
  {
   "cell_type": "code",
   "execution_count": 21,
   "metadata": {},
   "outputs": [
    {
     "name": "stdout",
     "output_type": "stream",
     "text": [
      "Evaluating mpt-7b-base-gsm8k-ft on test set\n",
      "Model gets 18 correct out of 100.\n",
      "Model rambles 0 times after getting the right answer.\n",
      "Model gets 16 somewhat correct out of 100.\n",
      "Model gets 66 wrong out of 100.\n"
     ]
    }
   ],
   "source": [
    "print(f\"Evaluating {model_list[0]} on test set\")\n",
    "get_accuracy_stats(df[df['split'] == 'test'])"
   ]
  },
  {
   "cell_type": "code",
   "execution_count": 22,
   "metadata": {},
   "outputs": [
    {
     "name": "stdout",
     "output_type": "stream",
     "text": [
      "Inspecting Model mpt-7b-chat-gsm8k-ft-hf with 8 shot generations.\n",
      "Evaluating mpt-7b-chat-gsm8k-ft-hf on train set\n",
      "Model gets 15 correct out of 100.\n",
      "Model rambles 0 times after getting the right answer.\n",
      "Model gets 15 somewhat correct out of 100.\n",
      "Model gets 70 wrong out of 100.\n"
     ]
    }
   ],
   "source": [
    "df = get_model_generations(model_idx=1, num_few_shot=8)\n",
    "print(f\"Evaluating {model_list[1]} on train set\")\n",
    "get_accuracy_stats(df[df['split'] == 'train'])"
   ]
  },
  {
   "cell_type": "code",
   "execution_count": 23,
   "metadata": {},
   "outputs": [
    {
     "name": "stdout",
     "output_type": "stream",
     "text": [
      "Inspecting Model mpt-7b-chat-gsm8k-ft-hf with 8 shot generations.\n",
      "Evaluating mpt-7b-chat-gsm8k-ft-hf on test set\n",
      "Model gets 14 correct out of 100.\n",
      "Model rambles 0 times after getting the right answer.\n",
      "Model gets 18 somewhat correct out of 100.\n",
      "Model gets 68 wrong out of 100.\n"
     ]
    }
   ],
   "source": [
    "df = get_model_generations(model_idx=1, num_few_shot=8)\n",
    "print(f\"Evaluating {model_list[1]} on test set\")\n",
    "get_accuracy_stats(df[df['split'] == 'test'])"
   ]
  },
  {
   "cell_type": "markdown",
   "metadata": {},
   "source": [
    "## Conclusion: The metamathQA model actually is the best model, despite the formatting. It just needs to learn how to stop talking after spitting out the answer. I think I can test this by asking eval to log generations."
   ]
  },
  {
   "cell_type": "markdown",
   "metadata": {},
   "source": []
  },
  {
   "cell_type": "code",
   "execution_count": null,
   "metadata": {},
   "outputs": [],
   "source": []
  }
 ],
 "metadata": {
  "kernelspec": {
   "display_name": "my-llmfoundry-venv",
   "language": "python",
   "name": "python3"
  },
  "language_info": {
   "codemirror_mode": {
    "name": "ipython",
    "version": 3
   },
   "file_extension": ".py",
   "mimetype": "text/x-python",
   "name": "python",
   "nbconvert_exporter": "python",
   "pygments_lexer": "ipython3",
   "version": "3.11.7"
  }
 },
 "nbformat": 4,
 "nbformat_minor": 2
}
